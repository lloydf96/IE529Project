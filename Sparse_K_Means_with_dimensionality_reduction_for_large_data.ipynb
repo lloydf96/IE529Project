{
  "nbformat": 4,
  "nbformat_minor": 0,
  "metadata": {
    "colab": {
      "provenance": [],
      "include_colab_link": true
    },
    "kernelspec": {
      "name": "python3",
      "display_name": "Python 3"
    },
    "language_info": {
      "name": "python"
    }
  },
  "cells": [
    {
      "cell_type": "markdown",
      "metadata": {
        "id": "view-in-github",
        "colab_type": "text"
      },
      "source": [
        "<a href=\"https://colab.research.google.com/github/lloydf96/IE529Project/blob/main/Sparse_K_Means_with_dimensionality_reduction_for_large_data.ipynb\" target=\"_parent\"><img src=\"https://colab.research.google.com/assets/colab-badge.svg\" alt=\"Open In Colab\"/></a>"
      ]
    },
    {
      "cell_type": "code",
      "execution_count": null,
      "metadata": {
        "id": "R4hSijBClVB9"
      },
      "outputs": [],
      "source": [
        "from sklearn.datasets import load_iris\n",
        "data = load_iris()\n",
        "X = data['data']\n",
        "import numpy as np\n",
        "import pandas as pd\n",
        "import sys"
      ]
    },
    {
      "cell_type": "code",
      "source": [
        "def distance(p1, p2):\n",
        "    return np.sum((p1 - p2)**2)\n",
        "\n",
        "def initialize(data, k):\n",
        "    '''\n",
        "    initialized the centroids for K-means++\n",
        "    inputs:\n",
        "        data - numpy array of data points having shape (200, 2)\n",
        "        k - number of clusters\n",
        "    '''\n",
        "    ## initialize the centroids list and add\n",
        "    ## a randomly selected data point to the list\n",
        "    centroids = []\n",
        "    centroids.append(data[np.random.randint(\n",
        "            data.shape[0]), :])\n",
        "\n",
        "\n",
        "    ## compute remaining k - 1 centroids\n",
        "    for c_id in range(k - 1):\n",
        "\n",
        "        ## initialize a list to store distances of data\n",
        "        ## points from nearest centroid\n",
        "        dist = []\n",
        "        for i in range(data.shape[0]):\n",
        "            point = data[i, :]\n",
        "            d = sys.maxsize\n",
        "\n",
        "            ## compute distance of 'point' from each of the previously\n",
        "            ## selected centroid and store the minimum distance\n",
        "            for j in range(len(centroids)):\n",
        "                temp_dist = distance(point, centroids[j])\n",
        "                d = min(d, temp_dist)\n",
        "            dist.append(d)\n",
        "\n",
        "        ## select data point with maximum distance as our next centroid\n",
        "        dist = np.array(dist)\n",
        "        next_centroid = data[np.argmax(dist), :]\n",
        "        centroids.append(next_centroid)\n",
        "        dist = []\n",
        "\n",
        "    return np.vstack(centroids)\n",
        "\n",
        "def get_centroid_index(x):\n",
        "\n",
        "  def distance_for_fixed_x(centroid):\n",
        "\n",
        "    return np.sum((centroid - x)**2)\n",
        "\n",
        "  distance_vector = np.apply_along_axis(distance_for_fixed_x,axis = 1,arr = centroids)\n",
        "\n",
        "  return np.argmin(distance_vector)\n",
        "\n",
        "def WCSS(X,centroids,centroid_indices):\n",
        "  distance = 0\n",
        "  for cluster_id in range(no_of_centroids):\n",
        "\n",
        "    centroid = centroids[cluster_id,:]\n",
        "\n",
        "    def distance_for_fixed_centroid(x):\n",
        "      return np.sum((x - centroid)**2)\n",
        "\n",
        "    point_indices, = np.where(centroid_indices == cluster_id)\n",
        "    points = np.take(X, point_indices, axis=0)\n",
        "    # print(points.shape)\n",
        "    # print(centroid.shape)\n",
        "    distance += np.sum(np.apply_along_axis(distance_for_fixed_centroid,axis = 1,arr = points))\n",
        "\n",
        "  return distance\n",
        "# call the initialize function to get the centroids\n",
        "\n"
      ],
      "metadata": {
        "id": "UDIa-n3SmPgL"
      },
      "execution_count": null,
      "outputs": []
    },
    {
      "cell_type": "code",
      "source": [
        "iterations = 100\n",
        "no_of_centroids = 4\n",
        "tol = 0.001\n",
        "s = 2\n",
        "centroids = initialize(X, k = no_of_centroids)\n",
        "centroid_indices = np.apply_along_axis(get_centroid_index,axis = 1,arr = X)\n",
        "\n",
        "number_of_features = X.shape[1]\n",
        "loss = WCSS(X,centroids,centroid_indices)\n",
        "\n",
        "for i in range(iterations):\n",
        "  new_centroids = []\n",
        "  points_in_centroid = []\n",
        "  old_loss = loss.copy()\n",
        "\n",
        "  for cluster_id in range(no_of_centroids):\n",
        "    #get points from centroid indices\n",
        "    point_indices, = np.where(centroid_indices == cluster_id)\n",
        "    points = np.take(X, point_indices, axis=0)\n",
        "    points_in_centroid.append(points.shape[0])\n",
        "    #get centroid location and append\n",
        "    new_centroids.append(np.mean(points,axis = 0))\n",
        "\n",
        "  #get new centroids in numpy array format\n",
        "  new_centroids = np.vstack(new_centroids)\n",
        "  points_in_centroid = np.array(points_in_centroid)\n",
        "\n",
        "\n",
        "  #calculate feature importance\n",
        "  dl = np.sum(new_centroids**2,axis = 0)/points_in_centroid\n",
        "  print(\"dl\")\n",
        "  print(dl)\n",
        "  dl_argsort = np.argsort(-1*dl)\n",
        "  print(\"dl_argsort\")\n",
        "  print(dl_argsort)\n",
        "\n",
        "  new_centroids_post_ranking = new_centroids.copy()\n",
        "  dl_id = 0\n",
        "\n",
        "  for dl_loc in dl_argsort:\n",
        "    #dl_loc location of the dl_id largest value in dl array\n",
        "    if dl_id < s:\n",
        "      continue\n",
        "\n",
        "    new_centroids_post_ranking[:,dl_loc] = np.zeros((new_centroids_post_ranking.shape[0],))\n",
        "\n",
        "    dl_id+=1\n",
        "\n",
        "  print(\"new_centroids\")\n",
        "  print(new_centroids_post_ranking)\n",
        "\n",
        "  centroids = new_centroids_post_ranking\n",
        "  centroid_indices = np.apply_along_axis(get_centroid_index,axis = 1,arr = X)\n",
        "  print(\"centroid_indices\")\n",
        "  print(loss)\n",
        "  loss = WCSS(X,centroids,centroid_indices)\n",
        "  print(loss)\n",
        "  if np.abs(loss - old_loss)<= tol:\n",
        "    print('Loss Stabilised at %d iterations'%(i))\n",
        "    break\n",
        "\n"
      ],
      "metadata": {
        "colab": {
          "base_uri": "https://localhost:8080/"
        },
        "id": "WYIfCqC0pRXX",
        "outputId": "25169c0f-78f2-4a16-c3ed-16b4bf1c5ad8"
      },
      "execution_count": null,
      "outputs": [
        {
          "output_type": "stream",
          "name": "stdout",
          "text": [
            "dl\n",
            "[2.02272091 0.7195638  6.0897028  0.61441305]\n",
            "dl_argsort\n",
            "[2 0 1 3]\n",
            "new_centroids\n",
            "[[6.22876712 2.90821918 4.89178082 1.70410959]\n",
            " [5.006      3.428      1.462      0.246     ]\n",
            " [7.42307692 3.13076923 6.26923077 2.06923077]\n",
            " [5.35714286 2.44285714 3.71428571 1.16428571]]\n",
            "centroid_indices\n",
            "152.92000000000002\n",
            "63.4132714817944\n",
            "dl\n",
            "[2.60417577 0.73221349 3.92631405 0.37483258]\n",
            "dl_argsort\n",
            "[2 0 1 3]\n",
            "new_centroids\n",
            "[[6.26607143 2.90714286 4.92142857 1.71964286]\n",
            " [5.006      3.428      1.462      0.246     ]\n",
            " [7.15       3.12       6.09       2.135     ]\n",
            " [5.5125     2.58333333 3.88333333 1.19166667]]\n",
            "centroid_indices\n",
            "63.4132714817944\n",
            "57.9293386904762\n",
            "dl\n",
            "[2.96891434 0.73619446 3.4022651  0.32486376]\n",
            "dl_argsort\n",
            "[2 0 1 3]\n",
            "new_centroids\n",
            "[[6.29183673 2.8877551  4.92653061 1.7122449 ]\n",
            " [5.006      3.428      1.462      0.246     ]\n",
            " [7.08695652 3.12608696 6.01304348 2.14347826]\n",
            " [5.53214286 2.63571429 3.96071429 1.22857143]]\n",
            "centroid_indices\n",
            "57.9293386904762\n",
            "57.35088021295475\n",
            "dl\n",
            "[2.96891434 0.73619446 3.4022651  0.32486376]\n",
            "dl_argsort\n",
            "[2 0 1 3]\n",
            "new_centroids\n",
            "[[6.29183673 2.8877551  4.92653061 1.7122449 ]\n",
            " [5.006      3.428      1.462      0.246     ]\n",
            " [7.08695652 3.12608696 6.01304348 2.14347826]\n",
            " [5.53214286 2.63571429 3.96071429 1.22857143]]\n",
            "centroid_indices\n",
            "57.35088021295475\n",
            "57.35088021295475\n",
            "Loss Stabilised at 3 iterations\n"
          ]
        }
      ]
    },
    {
      "cell_type": "code",
      "source": [
        "def plot_data(X):\n",
        "    plt.scatter(\n",
        "    X[:, 0], X[:, 1],\n",
        "    c='white', marker='o',\n",
        "    edgecolor='black', s=50\n",
        "    )\n",
        "    plt.show()\n",
        "\n",
        "def plot_clusters(X,centroids,cluster):\n",
        "    sns.scatterplot(X[:,0], X[:, 1], hue=cluster)\n",
        "    sns.scatterplot(centroids[:,0], centroids[:, 1], s=100, color='y')\n",
        "    plt.xlabel('feature1')\n",
        "    plt.ylabel('feature2')\n",
        "    plt.show()\n",
        "\n",
        "def plot_loss(loss_list):\n",
        "    epochs = [i for i in range(len(loss_list))]\n",
        "    plt.plot(epochs,loss_list)\n",
        "    plt.xlabel('epochs')\n",
        "    plt.ylabel('loss')\n",
        "    plt.show()"
      ],
      "metadata": {
        "id": "sOFoTvGwnBPy"
      },
      "execution_count": null,
      "outputs": []
    },
    {
      "cell_type": "code",
      "source": [
        "iterations = 100\n",
        "no_of_centroids = 4\n",
        "tol = 0.001\n",
        "s = 1\n",
        "\n",
        "centroids = initialize(X, k = no_of_centroids)\n",
        "centroid_indices = np.apply_along_axis(get_centroid_index,axis = 1,arr = X)\n",
        "\n",
        "number_of_features = X.shape[1]\n",
        "loss = WCSS(X,centroids,centroid_indices)\n",
        "\n",
        "for i in range(iterations):\n",
        "  new_centroids = []\n",
        "  points_in_centroid = []\n",
        "  old_loss = loss.copy()\n",
        "\n",
        "  for cluster_id in range(no_of_centroids):\n",
        "    #get points from centroid indices\n",
        "    point_indices, = np.where(centroid_indices == cluster_id)\n",
        "    points = np.take(X, point_indices, axis=0)\n",
        "    points_in_centroid.append(points.shape[0])\n",
        "    #get centroid location and append\n",
        "    new_centroids.append(np.mean(points,axis = 0))\n",
        "\n",
        "  #get new centroids in numpy array format\n",
        "  new_centroids = np.vstack(new_centroids)\n",
        "  points_in_centroid = np.array(points_in_centroid)\n",
        "\n",
        "  #calculate feature importance\n",
        "  dl = np.sum(new_centroids**2*points_in_centroid[:,np.newaxis],axis = 0)\n",
        "  dl_argsort = np.argsort(-1*dl)\n",
        "\n",
        "  new_centroids_post_ranking = new_centroids.copy()\n",
        "  dl_id = 0\n",
        "\n",
        "  for dl_loc in dl_argsort:\n",
        "    #dl_loc location of the dl_id largest value in dl array\n",
        "    if dl_id < s:\n",
        "      dl_id+=1\n",
        "      continue\n",
        "\n",
        "    new_centroids_post_ranking[:,dl_loc] = np.zeros((new_centroids_post_ranking.shape[0],))\n",
        "    dl_id+=1\n",
        "\n",
        "\n",
        "  print(\"new_centroids\")\n",
        "  print(new_centroids_post_ranking)\n",
        "  centroids_old = centroids.copy()\n",
        "  centroids = new_centroids_post_ranking\n",
        "  centroid_indices = np.apply_along_axis(get_centroid_index,axis = 1,arr = X)\n",
        "  centroids = centroids_old.copy()\n",
        "\n",
        "  loss = WCSS(X,centroids,centroid_indices)\n",
        "\n",
        "  if np.abs(loss - old_loss)<= tol:\n",
        "    print('Loss Stabilised at %d iterations'%(i))\n",
        "    break\n",
        "\n"
      ],
      "metadata": {
        "id": "MPhrBzD7-uYs",
        "colab": {
          "base_uri": "https://localhost:8080/"
        },
        "outputId": "e032669e-bfbb-4a20-a2ac-bef744ffc102"
      },
      "execution_count": null,
      "outputs": [
        {
          "output_type": "stream",
          "name": "stdout",
          "text": [
            "new_centroids\n",
            "[[4.73333333 0.         0.         0.        ]\n",
            " [6.99642857 0.         0.         0.        ]\n",
            " [5.97638889 0.         0.         0.        ]\n",
            " [5.25769231 0.         0.         0.        ]]\n",
            "new_centroids\n",
            "[[4.69090909 0.         0.         0.        ]\n",
            " [6.97142857 0.         0.         0.        ]\n",
            " [6.056      0.         0.         0.        ]\n",
            " [5.26744186 0.         0.         0.        ]]\n",
            "new_centroids\n",
            "[[4.69090909 0.         0.         0.        ]\n",
            " [7.05       0.         0.         0.        ]\n",
            " [6.09636364 0.         0.         0.        ]\n",
            " [5.26744186 0.         0.         0.        ]]\n",
            "Loss Stabilised at 2 iterations\n"
          ]
        }
      ]
    },
    {
      "cell_type": "code",
      "source": [
        "import matplotlib.pyplot as plt\n",
        "plt.scatter(X[:,0],X[:,1],c = centroid_indices)\n",
        "plt.show()\n"
      ],
      "metadata": {
        "colab": {
          "base_uri": "https://localhost:8080/",
          "height": 268
        },
        "id": "SFK3ibNd-2yQ",
        "outputId": "c3cce1ca-8b4a-4273-eac0-1453f560636d"
      },
      "execution_count": null,
      "outputs": [
        {
          "output_type": "display_data",
          "data": {
            "text/plain": [
              "<Figure size 432x288 with 1 Axes>"
            ],
            "image/png": "[encoded data removed]"
          },
          "metadata": {
            "needs_background": "light"
          }
        }
      ]
    },
    {
      "cell_type": "code",
      "source": [],
      "metadata": {
        "id": "icPJxeuHBQy0"
      },
      "execution_count": null,
      "outputs": []
    }
  ]
}